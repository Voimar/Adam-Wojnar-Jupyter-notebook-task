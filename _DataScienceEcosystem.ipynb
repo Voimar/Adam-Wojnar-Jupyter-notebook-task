{
 "cells": [
  {
   "cell_type": "markdown",
   "id": "eda1fa3d-f02c-46fa-be1f-5bbbc3d312eb",
   "metadata": {},
   "source": [
    "# Data Science Tools and Ecosystem"
   ]
  },
  {
   "cell_type": "markdown",
   "id": "e2ffc5c4-4a62-4d7a-bf89-07cab3790728",
   "metadata": {},
   "source": [
    "In this document, the tools and ecosystem of Data Science are encapsulated."
   ]
  },
  {
   "cell_type": "markdown",
   "id": "740396be-43f3-43f3-8981-b3e2b2fc74b7",
   "metadata": {},
   "source": [
    "**Objectives:** \n",
    "* Python is one of the most popular languages for data science\n",
    "* A very important thing that you start with data science is the ability to tell stories\n",
    "* Data science is a field that will be at the forefront of job market demand for a long time to come\n",
    "* Data science can be used to solve any problem from creating a bus schedule to helping cure a disease"
   ]
  },
  {
   "cell_type": "markdown",
   "id": "e7441865-c2ca-4679-b24d-6038ff793e09",
   "metadata": {},
   "source": [
    "Among the languages commonly employed by Data Scientists are:\n",
    "1. Python \n",
    "2. R\n",
    "3. Julia\n",
    "4. No Kernel"
   ]
  },
  {
   "cell_type": "markdown",
   "id": "da2b6ec0-b128-4326-b807-e9b49af4de24",
   "metadata": {},
   "source": [
    "Some of the commonly used libraries used by Data Scientists include:\n",
    "1. TensorFlow\n",
    "2. NumPy\n",
    "3. Pandas\n",
    "4. SciKit-Learn"
   ]
  },
  {
   "cell_type": "markdown",
   "id": "2615d24e-7fb7-4933-a4e8-a96793c5e4e8",
   "metadata": {},
   "source": [
    "|Data Science Tools|\n",
    "|------------------|\n",
    "|Github|\n",
    "|Apache Spark|\n",
    "|Scikit-learn|"
   ]
  },
  {
   "cell_type": "markdown",
   "id": "0ba16a33-d2bf-49a2-9546-757178acdcb4",
   "metadata": {
    "tags": []
   },
   "source": [
    "### Here are some instances of assessing arithmetic expressions in Python:"
   ]
  },
  {
   "cell_type": "markdown",
   "id": "ff943119-fd4e-4ddd-a790-3f6a8991c6ed",
   "metadata": {
    "tags": []
   },
   "source": [
    "This is a straightforward arithmetic expression involving the multiplication and addition of integers"
   ]
  },
  {
   "cell_type": "code",
   "execution_count": 3,
   "id": "eea676b0-c05a-42f6-adab-6f631a35f047",
   "metadata": {
    "tags": []
   },
   "outputs": [
    {
     "data": {
      "text/plain": [
       "17"
      ]
     },
     "execution_count": 3,
     "metadata": {},
     "output_type": "execute_result"
    }
   ],
   "source": [
    "(3*4)+5"
   ]
  },
  {
   "cell_type": "markdown",
   "id": "dcf5cb10-a270-4a1c-ba39-9396ab89c866",
   "metadata": {},
   "source": [
    "This will convert 200 minutes to hours by diving by 60"
   ]
  },
  {
   "cell_type": "code",
   "execution_count": 2,
   "id": "bc8b07d1-c0c4-4bd3-8b2e-5621f4c0a5ad",
   "metadata": {
    "tags": []
   },
   "outputs": [
    {
     "name": "stdin",
     "output_type": "stream",
     "text": [
      "Enter time in minutes 2000\n"
     ]
    },
    {
     "name": "stdout",
     "output_type": "stream",
     "text": [
      "Hours= 33\n"
     ]
    }
   ],
   "source": [
    "min=int(input(\"Enter time in minutes\"))\n",
    "h=min//60\n",
    "m=min%60\n",
    "print(\"Hours=\",h)"
   ]
  },
  {
   "cell_type": "markdown",
   "id": "9896f6c9-2b8f-4553-8c76-9ca51c9caf3f",
   "metadata": {},
   "source": [
    "## Author \n",
    "Adam Wojnar"
   ]
  },
  {
   "cell_type": "code",
   "execution_count": null,
   "id": "d3b120c2-cb5b-4fdd-8b00-1b97895ad9b0",
   "metadata": {},
   "outputs": [],
   "source": []
  }
 ],
 "metadata": {
  "kernelspec": {
   "display_name": "Python",
   "language": "python",
   "name": "conda-env-python-py"
  },
  "language_info": {
   "codemirror_mode": {
    "name": "ipython",
    "version": 3
   },
   "file_extension": ".py",
   "mimetype": "text/x-python",
   "name": "python",
   "nbconvert_exporter": "python",
   "pygments_lexer": "ipython3",
   "version": "3.7.12"
  }
 },
 "nbformat": 4,
 "nbformat_minor": 5
}
